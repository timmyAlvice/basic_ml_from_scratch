{
 "cells": [
  {
   "cell_type": "markdown",
   "metadata": {},
   "source": [
    "#### IMPORTS"
   ]
  },
  {
   "cell_type": "code",
   "execution_count": 3,
   "metadata": {},
   "outputs": [],
   "source": [
    "import numpy as np\n",
    "import pandas as pd\n",
    "import itertools\n",
    "import matplotlib.pyplot as plt\n",
    "\n",
    "from sklearn.model_selection import train_test_split\n",
    "from sklearn.datasets import make_classification, make_regression, \\\n",
    "                             make_blobs, make_circles, make_moons\n",
    "from sklearn.base import BaseEstimator\n",
    "# from sklearn.neighbors import KNeighborsClassifier\n",
    "from sklearn import metrics\n",
    "\n",
    "import warnings\n",
    "warnings.filterwarnings('ignore')\n",
    "from __future__ import annotations"
   ]
  },
  {
   "cell_type": "markdown",
   "metadata": {},
   "source": [
    "#### REGRESSION AND CLASSIFICATION DATA GENERATION"
   ]
  },
  {
   "cell_type": "code",
   "execution_count": 4,
   "metadata": {},
   "outputs": [],
   "source": [
    "X_reg, y_reg = make_regression(\n",
    "    n_samples=100,                                  \t\t\t\n",
    "    n_features=5,                 \t\t\t\n",
    "    n_informative=3,                          \t\t\t\n",
    "    n_targets=1,                            \t\t\t\n",
    "    random_state=1\n",
    ")\n",
    "\n",
    "X_reg_train, X_reg_test, y_reg_train, y_reg_test = train_test_split(\n",
    "                                                    X_reg, y_reg, test_size=0.3)\n",
    "\n",
    "\n",
    "X_clas, y_clas = make_classification(\n",
    "    n_samples=100,  \n",
    "    n_features=5, \n",
    "    n_informative=3, \n",
    "    n_classes=2, \n",
    "    random_state=1\n",
    ")\n",
    "\n",
    "X_clas_train, X_clas_test, y_clas_train, y_clas_test = train_test_split(\n",
    "                                                    X_clas, y_clas, test_size=0.3)"
   ]
  },
  {
   "cell_type": "markdown",
   "metadata": {},
   "source": [
    "# Cross Validation"
   ]
  },
  {
   "cell_type": "code",
   "execution_count": 5,
   "metadata": {},
   "outputs": [],
   "source": [
    "class CrossValidation():\n",
    "    \n",
    "    def __init__(self, model, model_type: str, cv: int=5, \n",
    "                 return_train_score: bool=False, **model_params) -> None:\n",
    "    \n",
    "        self.model = model\n",
    "        self.cv = cv\n",
    "        self.scores = []\n",
    "        self.return_train_score = return_train_score\n",
    "        self.model_params = model_params\n",
    "        \n",
    "        if model_type not in {\"regression\", \"classification\"}:\n",
    "            raise Exception(\"model_type must be in [\\\"regression\\\", \\\"classification\\\"]\")\n",
    "        \n",
    "        self.model_type = model_type\n",
    "        if self.model_type == \"regression\":\n",
    "            self.scoring = metrics.mean_squared_error\n",
    "        else:\n",
    "            self.scoring = metrics.f1_score\n",
    "            \n",
    "    def _split_by_index(self, x: np.ndarray, start: int, stop: int) -> tuple:\n",
    "        test = x[start : stop]\n",
    "        train = np.delete(x, range(start, stop), axis=0)\n",
    "        return train, test\n",
    "        \n",
    "    def validate(self, X: np.ndarray, y: np.ndarray) -> float:\n",
    "        n_samples = y.size\n",
    "        fold_size = n_samples // self.cv\n",
    "        start, stop = 0, fold_size\n",
    "        \n",
    "        for _ in range(self.cv):\n",
    "            X_train, X_test = self._split_by_index(X, start, stop)\n",
    "            y_train, y_test = self._split_by_index(y, start, stop)\n",
    "            \n",
    "            model = self.model(**self.model_params)\n",
    "                \n",
    "            model.fit(X_train, y_train)\n",
    "            y_pred = model.predict(X_test)\n",
    "            try:\n",
    "                score = self.scoring(y_test, y_pred)\n",
    "                self.scores.append(score)\n",
    "            except:\n",
    "                # print(\"Extremal value!\")\n",
    "                # print(y_pred)\n",
    "                continue\n",
    "            \n",
    "            start += fold_size\n",
    "            stop += fold_size if stop < n_samples else n_samples\n",
    "            \n",
    "        if self.return_train_score:\n",
    "            return self.scores\n",
    "        else:\n",
    "            return np.mean(self.scores)\n",
    "                "
   ]
  },
  {
   "cell_type": "markdown",
   "metadata": {},
   "source": [
    "# Grid Search with Cross Validation"
   ]
  },
  {
   "cell_type": "code",
   "execution_count": 6,
   "metadata": {},
   "outputs": [],
   "source": [
    "class GridSearchCV():\n",
    "    \n",
    "    def __init__(self, model, param_grid: dict, model_type: str, cv: int=5) -> None:\n",
    "        self.model = model\n",
    "        self.param_grid = param_grid\n",
    "        \n",
    "        if model_type not in {\"regression\", \"classification\"}:\n",
    "            raise Exception(\"model_type must be in [\\\"regression\\\", \\\"classification\\\"]\")\n",
    "        \n",
    "        self.model_type = model_type\n",
    "        self.cv = cv\n",
    "            \n",
    "    def fit(self, X: np.ndarray, y: np.ndarray) -> dict:\n",
    "        \n",
    "        self.best_params = None\n",
    "        \n",
    "        if self.model_type == \"regression\":\n",
    "            self.best_score = np.inf\n",
    "        else:\n",
    "            self.best_score = 0\n",
    "            \n",
    "        params_combinations = itertools.product(*self.param_grid.values())\n",
    "        \n",
    "        for params_combination in params_combinations:\n",
    "            params = dict(zip(self.param_grid.keys(), params_combination))\n",
    "            CV = CrossValidation(self.model, model_type=self.model_type, cv=self.cv, **params)\n",
    "            score = CV.validate(X, y)\n",
    "            \n",
    "            if (self.model_type == \"regression\") & (score < self.best_score):\n",
    "                self.best_score, self.best_params = score, params\n",
    "            \n",
    "            if (self.model_type == \"classification\") & (score > self.best_score):\n",
    "                self.best_score, self.best_params = score, params\n",
    "        \n",
    "        if self.best_params is None:\n",
    "            self.best_params = params\n",
    "        \n",
    "        return self.best_params"
   ]
  },
  {
   "cell_type": "markdown",
   "metadata": {},
   "source": [
    "# K-Neared Neigbors:"
   ]
  },
  {
   "cell_type": "markdown",
   "metadata": {},
   "source": [
    "#### BASE KNN ALGORITHM "
   ]
  },
  {
   "cell_type": "code",
   "execution_count": 7,
   "metadata": {},
   "outputs": [],
   "source": [
    "class BasicKNN(BaseEstimator):\n",
    "\n",
    "\tdef __init__(self, n_neighbors: int) -> None:\n",
    "\t\traise NotImplementedError(\"Метод требует переопределения в классе наследования\")\n",
    "\t\t\n",
    "\tdef euclidian_dist(self, x: np.ndarray, y: np.ndarray) -> float:\n",
    "\t\treturn np.linalg.norm(x - y)\n",
    "\t\n",
    "\tdef fit(self, X_train, y_train) -> BasicKNN:\n",
    "\t\tself.X_train = X_train\n",
    "\t\tself.y_train = y_train\n",
    "\t\treturn self\n",
    "\t\t\n",
    "\tdef _get_indexes(self, dists: list) -> list:\n",
    "\t\tthreshold = sorted(dists)[self.n_neighbors]\n",
    "\t\tindexes = [dists.index(i) for i in dists if i < threshold]\n",
    "\t\treturn indexes\n",
    "\n",
    "\tdef _pred_classiffication(self, neighbors_y: np.ndarray) -> int:\n",
    "\t\ty_pred_sample = np.argmax(np.bincount(neighbors_y))\n",
    "\t\treturn y_pred_sample\n",
    "        \n",
    "\t\t\n",
    "\tdef predict(self, X_test) -> np.ndarray:\n",
    "\t\ty_pred = []\n",
    "\n",
    "\t\tfor sample in X_test:\n",
    "\t\t\tdists = [self.euclidian_dist(sample, x) for x in self.X_train]\n",
    "\t\t\tneighbors_inds = self._get_indexes(dists)\n",
    "\t\t\tneighbors_y = self.y_train[neighbors_inds]\n",
    "\n",
    "\t\t\ty_pred_sample = self.pred_sample(neighbors_y)\n",
    "\t\t\ty_pred.append(y_pred_sample)\n",
    "\t\t\n",
    "\t\treturn np.array(y_pred)"
   ]
  },
  {
   "cell_type": "markdown",
   "metadata": {},
   "source": [
    "# 1. KNN for Regression"
   ]
  },
  {
   "cell_type": "code",
   "execution_count": 8,
   "metadata": {},
   "outputs": [],
   "source": [
    "class KNNRegression(BasicKNN):\n",
    "    \n",
    "    def __init__(self, n_neighbors: int) -> None:\n",
    "        self.n_neighbors = n_neighbors\n",
    "        self.pred_sample = np.mean"
   ]
  },
  {
   "cell_type": "code",
   "execution_count": 9,
   "metadata": {},
   "outputs": [
    {
     "name": "stdout",
     "output_type": "stream",
     "text": [
      "552.5477910905886 {'n_neighbors': 2}\n"
     ]
    }
   ],
   "source": [
    "# HYPER-PARAMS SELECTION\n",
    "\n",
    "params_grid = {\n",
    "    'n_neighbors': [2, 3, 5, 7, 10, 20, 30, 50],\n",
    "}\n",
    "\n",
    "GS = GridSearchCV(KNNRegression, params_grid, model_type='regression')\n",
    "GS.fit(X_reg_train, y_reg_train)\n",
    "best_params = GS.best_params\n",
    "\n",
    "# FITTING MODEL\n",
    "\n",
    "model = KNNRegression(**best_params)\n",
    "\t\t\t \n",
    "model.fit(X_reg_train, y_reg_train)\n",
    "y_reg_pred = model.predict(X_reg_test)\n",
    "score = metrics.mean_squared_error(y_reg_pred, y_reg_test)\n",
    "print(score, best_params)"
   ]
  },
  {
   "cell_type": "markdown",
   "metadata": {},
   "source": [
    "# 2. KNN for Classification"
   ]
  },
  {
   "cell_type": "code",
   "execution_count": 10,
   "metadata": {},
   "outputs": [],
   "source": [
    "class KNNClassification(BasicKNN):\n",
    "    \n",
    "    def __init__(self, n_neighbors: int) -> None:\n",
    "        self.n_neighbors = n_neighbors\n",
    "        self.pred_sample = self._pred_classiffication"
   ]
  },
  {
   "cell_type": "code",
   "execution_count": 11,
   "metadata": {},
   "outputs": [
    {
     "name": "stdout",
     "output_type": "stream",
     "text": [
      "0.8571428571428571 {'n_neighbors': 2}\n"
     ]
    }
   ],
   "source": [
    "# HYPER-PARAMS SELECTION\n",
    "\n",
    "params_grid = {\n",
    "    'n_neighbors': [2, 3, 5, 7, 10, 20, 30, 50],\n",
    "}\n",
    "\n",
    "GS = GridSearchCV(KNNClassification, params_grid, model_type='classification')\n",
    "GS.fit(X_clas_train, y_clas_train)\n",
    "best_params = GS.best_params\n",
    "\n",
    "# FITTING MODEL\n",
    "\n",
    "model = KNNClassification(**best_params)\n",
    "\t\t\t \n",
    "model.fit(X_clas_train, y_clas_train)\n",
    "y_clas_pred = model.predict(X_clas_test)\n",
    "score = metrics.f1_score(y_clas_pred, y_clas_test)\n",
    "print(score, best_params)"
   ]
  },
  {
   "cell_type": "markdown",
   "metadata": {},
   "source": [
    "# Linear Models"
   ]
  },
  {
   "cell_type": "markdown",
   "metadata": {},
   "source": [
    "# Basic Regression with Gradient Descendal Algorithm"
   ]
  },
  {
   "cell_type": "code",
   "execution_count": 12,
   "metadata": {},
   "outputs": [],
   "source": [
    "class BasicRegression(BaseEstimator):\n",
    "    \n",
    "    def __init__(self, max_depth: int=None, criterion: str=\"entropy\") -> None:\n",
    "        raise NotImplementedError(\"Метод требует переопределения в классе наследования\")\n",
    "\n",
    "    def _add_bias(self, X: np.ndarray) -> np.ndarray:\n",
    "        bias = np.ones((X.shape[0], 1))\n",
    "        X_with_bias = np.concatenate([X, bias], axis=1)\n",
    "        return X_with_bias\n",
    "        \n",
    "\n",
    "    def fit(self, X_train: np.array, y_train: np.array) -> BasicRegression:\n",
    "        self.loss_history = []\n",
    "        X_train = self._add_bias(X_train)\n",
    "        self.n_samples, self.n_features = X_train.shape\n",
    "        self.w = self.w0 if self.w0 is not None else np.ones(self.n_features)\n",
    "        \n",
    "        for _ in range(int(self.max_iter)):\n",
    "            if self.batch_size is not None:             \n",
    "                inds = np.random.randint(0, self.n_samples, self.batch_size)\n",
    "                X, y = X_train[inds], y_train[inds]\n",
    "            else:\n",
    "                X, y = X_train, y_train\n",
    "                   \n",
    "            grad_step = self.eta * self.calc_gradient(X, y)\n",
    "            \n",
    "            if (np.linalg.norm(grad_step) < self.tolerance) | \\\n",
    "               (np.any(np.isnan(grad_step) | np.isinf(grad_step))):\n",
    "                break\n",
    "            \n",
    "            self.w -= grad_step\n",
    "            self.loss_history.append(self.calc_loss(X_train, y_train))\n",
    "            \n",
    "        return self\n",
    "\n",
    "\n",
    "    def predict_proba(self, X_test: np.array) -> np.array:\n",
    "        if self.w is None:\n",
    "            raise Exception('Not trained yet')\n",
    "\n",
    "        proba_1 = np.expand_dims(self._sigma(X_test @ self.w), axis=1)\n",
    "        proba_0 = 1 - proba_1\n",
    "        return np.concatenate([proba_0, proba_1], axis=1)\n",
    "\n",
    "\n",
    "    def predict(self, X_test: np.array) -> np.array:\n",
    "        X_test = self._add_bias(X_test)\n",
    "        if self.w is None:\n",
    "            raise Exception('Not trained yet')\n",
    "        \n",
    "        if self.calc_gradient == self.calc_linear_gradient:\n",
    "            y_pred = X_test @ self.w\n",
    "        else:\n",
    "            \n",
    "            y_pred = np.round(self.predict_proba(X_test)[:, 1], 1).astype(int)\n",
    "        return y_pred\n",
    "\n",
    "\n",
    "    def calc_linear_gradient(self, X: np.array, y: np.array) -> np.array:\n",
    "        grad = (X.T @ (X @ self.w - y)**2) / y.size\n",
    "        return grad\n",
    "\n",
    "\n",
    "    def calc_logistic_gradient(self, X: np.array, y: np.array) -> np.array:\n",
    "        grad = (X.T @ (self._sigma(X @ self.w) - y)) / y.size\n",
    "        return grad\n",
    "\n",
    "\n",
    "    def _sigma(self, z: np.array) -> np.array:\n",
    "        return 1 / (1 + np.exp(-z))\n",
    "    \n",
    "    \n",
    "    def calc_linear_loss(self, X: np.array, y: np.array) -> float:\n",
    "        y_pred = X @ self.w\n",
    "        loss = np.mean((y_pred - y)**2)\n",
    "        return loss\n",
    "\n",
    "\n",
    "    def calc_logistic_loss(self, X: np.array, y: np.array) -> float:\n",
    "        y_pred = self._sigma(X @ self.w)\n",
    "        loss = -np.mean(y*np.log(y_pred) + \n",
    "                   (1-y)*np.log(1 - y_pred)) / len(y)\n",
    "        return loss\n",
    "      \n",
    "    def show_loss(self) -> None:\n",
    "        loss = self.loss_history\n",
    "        iters = range(len(loss))\n",
    "        plt.plot(iters, loss)\n",
    "        plt.xlabel(\"Iteration\")\n",
    "        plt.ylabel(\"Loss value\")\n",
    "        plt.title(\"Loss function\")\n",
    "        plt.grid(True)\n",
    "        \n",
    "        plt.show()\n",
    "        print(f\"Final loss = {round(loss[-1], 4)}\")"
   ]
  },
  {
   "cell_type": "markdown",
   "metadata": {},
   "source": [
    "# 1. Linear Regression"
   ]
  },
  {
   "cell_type": "code",
   "execution_count": 13,
   "metadata": {},
   "outputs": [],
   "source": [
    "class LinearRegression(BasicRegression):\n",
    "    \n",
    "    def __init__(self, tolerance: float = 1e-6, max_iter: int = 1e3, \n",
    "                 eta: float = 1e-2, w0: np.array = None) -> None:\n",
    "        \n",
    "        self.calc_gradient = self.calc_linear_gradient\n",
    "        self.calc_loss = self.calc_linear_loss\n",
    "\n",
    "        self.tolerance = tolerance\n",
    "        self.max_iter = max_iter\n",
    "        self.eta = eta\n",
    "        self.w0 = w0\n",
    "        self.w = None\n",
    "        self.loss_history = None\n",
    "        self.batch_size = None"
   ]
  },
  {
   "cell_type": "code",
   "execution_count": 14,
   "metadata": {},
   "outputs": [
    {
     "name": "stdout",
     "output_type": "stream",
     "text": [
      "2208.223138374894 {'eta': 1e-07, 'max_iter': 100.0}\n"
     ]
    },
    {
     "data": {
      "image/png": "[encoded data removed]",
      "text/plain": [
       "<Figure size 640x480 with 1 Axes>"
      ]
     },
     "metadata": {},
     "output_type": "display_data"
    },
    {
     "name": "stdout",
     "output_type": "stream",
     "text": [
      "Final loss = 3418.7125\n"
     ]
    }
   ],
   "source": [
    "# HYPER-PARAMS SELECTION\n",
    "\n",
    "params_grid = {\n",
    "    'eta': [1e-2, 1e-3, 1-4, 1e-5, 1e-6, 1e-7],\n",
    "    'max_iter': [1e2, 1e3, 1e4]\n",
    "}\n",
    "\n",
    "GS = GridSearchCV(LinearRegression, params_grid, model_type='regression')\n",
    "GS.fit(X_reg_train, y_reg_train)\n",
    "best_params = GS.best_params\n",
    "\n",
    "# FITTING MODEL\n",
    "\n",
    "model = LinearRegression(**best_params)\n",
    "# model = LinearRegression(eta=1e-5)\n",
    "\t\t\t \n",
    "model.fit(X_reg_train, y_reg_train)\n",
    "y_reg_pred = model.predict(X_reg_test)\n",
    "score = metrics.mean_squared_error(y_reg_pred, y_reg_test)\n",
    "print(score, best_params)\n",
    "model.show_loss()"
   ]
  },
  {
   "cell_type": "markdown",
   "metadata": {},
   "source": [
    "# 2. Stohastic Gradient Descendal (Regression Mode)"
   ]
  },
  {
   "cell_type": "code",
   "execution_count": 15,
   "metadata": {},
   "outputs": [],
   "source": [
    "class SGDRegression(LinearRegression):\n",
    "    \n",
    "    def __init__(self, tolerance: float = 1e-6, max_iter: int = 1e3, \n",
    "                 eta: float = 1e-2, batch_size: int=10, w0: np.array = None) -> None:\n",
    "        \n",
    "        self.calc_gradient = self.calc_linear_gradient\n",
    "        self.calc_loss = self.calc_linear_loss\n",
    "\n",
    "        self.batch_size = batch_size\n",
    "        self.tolerance = tolerance\n",
    "        self.max_iter = max_iter\n",
    "        self.eta = eta\n",
    "        self.w0 = w0\n",
    "        self.w = None\n",
    "        self.loss_history = None"
   ]
  },
  {
   "cell_type": "code",
   "execution_count": 16,
   "metadata": {},
   "outputs": [
    {
     "name": "stdout",
     "output_type": "stream",
     "text": [
      "2207.4633125772334 {'eta': 1e-07, 'max_iter': 1000.0, 'batch_size': 1}\n"
     ]
    },
    {
     "data": {
      "image/png": "[encoded data removed]",
      "text/plain": [
       "<Figure size 640x480 with 1 Axes>"
      ]
     },
     "metadata": {},
     "output_type": "display_data"
    },
    {
     "name": "stdout",
     "output_type": "stream",
     "text": [
      "Final loss = 3417.0775\n"
     ]
    }
   ],
   "source": [
    "# HYPER-PARAMS SELECTION\n",
    "\n",
    "params_grid = {\n",
    "    'eta': [1e-2, 1e-3, 1-4, 1e-5, 1e-6, 1e-7],\n",
    "    'max_iter': [1e2, 1e3, 1e4],\n",
    "    'batch_size': [1, 5, 10, 20]\n",
    "}\n",
    "\n",
    "GS = GridSearchCV(SGDRegression, params_grid, model_type='regression')\n",
    "GS.fit(X_reg_train, y_reg_train)\n",
    "best_params = GS.best_params\n",
    "\n",
    "# FITTING MODEL\n",
    "\n",
    "model = SGDRegression(**best_params)\n",
    "# model = SGDRegression(eta=1e-5)\n",
    "\t\t\t \n",
    "model.fit(X_reg_train, y_reg_train)\n",
    "y_reg_pred = model.predict(X_reg_test)\n",
    "score = metrics.mean_squared_error(y_reg_pred, y_reg_test)\n",
    "print(score, best_params)\n",
    "model.show_loss()"
   ]
  },
  {
   "cell_type": "markdown",
   "metadata": {},
   "source": [
    "# 3. Logistic Regression"
   ]
  },
  {
   "cell_type": "code",
   "execution_count": 17,
   "metadata": {},
   "outputs": [],
   "source": [
    "class LogisticRegression(BasicRegression):\n",
    "    \n",
    "    def __init__(self, tolerance: float = 1e-6, max_iter: int = 1e3, \n",
    "                 eta: float = 1e-2, w0: np.array = None) -> None:\n",
    "        \n",
    "        self.calc_gradient = self.calc_logistic_gradient\n",
    "        self.calc_loss = self.calc_logistic_loss\n",
    "\n",
    "        self.tolerance = tolerance\n",
    "        self.max_iter = max_iter\n",
    "        self.eta = eta\n",
    "        self.w0 = w0\n",
    "        self.w = None\n",
    "        self.loss_history = None\n",
    "        self.batch_size = None"
   ]
  },
  {
   "cell_type": "code",
   "execution_count": 18,
   "metadata": {},
   "outputs": [
    {
     "name": "stdout",
     "output_type": "stream",
     "text": [
      "0.6428571428571429 {'eta': 0.1, 'max_iter': 1000.0}\n"
     ]
    },
    {
     "data": {
      "image/png": "[encoded data removed]",
      "text/plain": [
       "<Figure size 640x480 with 1 Axes>"
      ]
     },
     "metadata": {},
     "output_type": "display_data"
    },
    {
     "name": "stdout",
     "output_type": "stream",
     "text": [
      "Final loss = 0.0031\n"
     ]
    }
   ],
   "source": [
    "# HYPER-PARAMS SELECTION\n",
    "\n",
    "params_grid = {\n",
    "    'eta': [1e-1, 1e-2, 1e-3, 1-4],\n",
    "    'max_iter': [1e2, 1e3],\n",
    "}\n",
    "\n",
    "GS = GridSearchCV(LogisticRegression, params_grid, model_type='classification')\n",
    "GS.fit(X_clas_train, y_clas_train)\n",
    "best_params = GS.best_params\n",
    "\n",
    "# FITTING MODEL\n",
    "\n",
    "model = LogisticRegression(**best_params)\n",
    "# model = LogisticRegression(eta=1e-1)\n",
    "\t\t\t \n",
    "model.fit(X_clas_train, y_clas_train)\n",
    "y_clas_pred = model.predict(X_clas_test)\n",
    "score = metrics.f1_score(y_clas_pred, y_clas_test)\n",
    "print(score, best_params)\n",
    "model.show_loss()"
   ]
  },
  {
   "cell_type": "markdown",
   "metadata": {},
   "source": [
    "# 4. Stohastic Gradient Descendal (Classification Mode)"
   ]
  },
  {
   "cell_type": "code",
   "execution_count": 19,
   "metadata": {},
   "outputs": [],
   "source": [
    "class SGDClassification(LogisticRegression):\n",
    "    \n",
    "    def __init__(self, tolerance: float = 1e-6, max_iter: int = 1e3, \n",
    "                 eta: float = 1e-2, batch_size: int=10, w0: np.array = None) -> None:\n",
    "        \n",
    "        self.calc_gradient = self.calc_logistic_gradient\n",
    "        self.calc_loss = self.calc_logistic_loss\n",
    "\n",
    "        self.batch_size = batch_size\n",
    "        self.tolerance = tolerance\n",
    "        self.max_iter = max_iter\n",
    "        self.eta = eta\n",
    "        self.w0 = w0\n",
    "        self.w = None\n",
    "        self.loss_history = None"
   ]
  },
  {
   "cell_type": "code",
   "execution_count": 20,
   "metadata": {},
   "outputs": [
    {
     "name": "stdout",
     "output_type": "stream",
     "text": [
      "0.3333333333333333 {'eta': 0.01, 'max_iter': 10000.0, 'batch_size': 1}\n"
     ]
    },
    {
     "data": {
      "image/png": "[encoded data removed]",
      "text/plain": [
       "<Figure size 640x480 with 1 Axes>"
      ]
     },
     "metadata": {},
     "output_type": "display_data"
    },
    {
     "name": "stdout",
     "output_type": "stream",
     "text": [
      "Final loss = 0.0032\n"
     ]
    }
   ],
   "source": [
    "# HYPER-PARAMS SELECTION\n",
    "\n",
    "params_grid = {\n",
    "    'eta': [1e-2, 1e-3, 1-4, 1e-5, 1e-6, 1e-7],\n",
    "    'max_iter': [1e2, 1e3, 1e4],\n",
    "    'batch_size': [1, 5, 10, 20]\n",
    "}\n",
    "\n",
    "GS = GridSearchCV(SGDClassification, params_grid, model_type='regression')\n",
    "GS.fit(X_clas_train, y_clas_train)\n",
    "best_params = GS.best_params\n",
    "\n",
    "# FITTING MODEL\n",
    "\n",
    "model = SGDClassification(**best_params)\n",
    "# model = SGDClassification(eta=1e-2)\n",
    "\t\t\t \n",
    "model.fit(X_clas_train, y_clas_train)\n",
    "y_clas_pred = model.predict(X_clas_test)\n",
    "score = metrics.mean_squared_error(y_clas_pred, y_clas_test)\n",
    "print(score, best_params)\n",
    "model.show_loss()"
   ]
  },
  {
   "cell_type": "code",
   "execution_count": null,
   "metadata": {},
   "outputs": [],
   "source": [
    "class SVM(BaseEstimator):\n",
    "    \n",
    "    def __init__(self, C = 1) -> None:\n",
    "        self.C = C\n",
    "        self.w = 0\n",
    "        self.b = 0\n",
    "        \n",
    "    def hingeloss(self, w, b, X, y):\n",
    "        reg = w**2 / 2\n",
    "        \n",
    "        w @ X \n",
    "        raise NotImplementedError"
   ]
  },
  {
   "cell_type": "markdown",
   "metadata": {},
   "source": [
    "# Decision Trees:"
   ]
  },
  {
   "cell_type": "markdown",
   "metadata": {},
   "source": [
    "# Basic Tree Algorithm"
   ]
  },
  {
   "cell_type": "code",
   "execution_count": 21,
   "metadata": {},
   "outputs": [],
   "source": [
    "class BasicTree(BaseEstimator):\n",
    "    \n",
    "    def __init__(self, max_depth: int=None, criterion: str=\"entropy\") -> None:\n",
    "        raise NotImplementedError(\"Метод требует переопределения в классе наследования\")\n",
    "    \n",
    "    \n",
    "    def _entropy(self, y: np.ndarray) -> float:\n",
    "        _, counts = np.unique(y, return_counts=True)\n",
    "        probs = counts / y.size\n",
    "        return -np.sum(probs * np.log2(probs))\n",
    "    \n",
    "        \n",
    "    def _gini_index(self, y: np.ndarray) -> float:\n",
    "        _, counts = np.unique(y, return_counts=True)\n",
    "        probs = counts / y.size\n",
    "        \n",
    "        if not len(probs):\n",
    "            return 0\n",
    "        return 1 - np.sum(probs**2)\n",
    "    \n",
    "    \n",
    "    def _varience(self, y: np.ndarray) -> float:\n",
    "        return np.mean(((y - np.mean(y))**2))\n",
    "    \n",
    "    \n",
    "    def find_best_split(self, X: np.ndarray, y: np.ndarray) -> tuple:\n",
    "            \n",
    "        best_feature, best_threshold = None, None\n",
    "        best_gain = 0 if self.model_type == \"classification\" else np.inf\n",
    "        \n",
    "        for feature in range(X.shape[1]):\n",
    "            thresholds = sorted(np.unique(X[:, feature]))\n",
    "            \n",
    "            for threshold in thresholds:\n",
    "                left_inds = X[:, feature] <= threshold\n",
    "                right_inds = X[:, feature] > threshold\n",
    "                \n",
    "                if sum(left_inds) == 0 or sum(right_inds) == 0:\n",
    "                    continue\n",
    "                \n",
    "                left_y, right_y = y[left_inds], y[right_inds]\n",
    "                \n",
    "                if self.model_type == \"classification\":\n",
    "                    gain = self.criterion(y) - (len(left_y) / len(y)) * self.criterion(left_y) - \\\n",
    "                                          (len(right_y) / len(y)) * self.criterion(right_y)\n",
    "                    if gain > best_gain:\n",
    "                        best_feature, best_threshold, best_gain = feature, threshold, gain\n",
    "                        \n",
    "                else:\n",
    "                    gain = self.criterion(left_y) + self.criterion(right_y)\n",
    "                    if gain < best_gain:\n",
    "                        best_feature, best_threshold, best_gain = feature, threshold, gain\n",
    "                        \n",
    "        return best_feature, best_threshold, best_gain\n",
    "    \n",
    "    \n",
    "    def _create_leaf_node(self, y: np.ndarray, y_pred: np.ndarray=None) -> dict:\n",
    "        raise NotImplementedError(\"Метод требует переопределения в классе наследования\")\n",
    "    \n",
    "    \n",
    "    def _build_tree(self, X: np.ndarray, y: np.ndarray, \n",
    "                    depth: int, y_pred: np.ndarray=None) -> dict:\n",
    "        if depth >= self.max_depth:\n",
    "            if y_pred is not None:\n",
    "                return self._create_leaf_node(y, y_pred)\n",
    "            return self._create_leaf_node(y)\n",
    "        \n",
    "        best_feature, best_threshold, _ = self.find_best_split(X, y)\n",
    "        if (best_feature is None) | (best_threshold is None):\n",
    "            if y_pred is not None:\n",
    "                return self._create_leaf_node(y, y_pred)\n",
    "            return self._create_leaf_node(y)\n",
    "        \n",
    "        left_inds = X[:, best_feature] <= best_threshold\n",
    "        right_inds = X[:, best_feature] > best_threshold\n",
    "    \n",
    "        if y_pred is not None:\n",
    "            left_tree = self._build_tree(X[left_inds], y[left_inds], depth+1, y_pred[left_inds])\n",
    "            right_tree = self._build_tree(X[right_inds], y[right_inds], depth+1, y_pred[right_inds])\n",
    "        else:\n",
    "            left_tree = self._build_tree(X[left_inds], y[left_inds], depth+1)\n",
    "            right_tree = self._build_tree(X[right_inds], y[right_inds], depth+1)\n",
    "\n",
    "        node = {'feature': best_feature, 'threshold': best_threshold, \n",
    "                'left': left_tree, 'right': right_tree}\n",
    "        \n",
    "        return node\n",
    "    \n",
    "    \n",
    "    def fit(self, X_train: np.ndarray, y_train: np.ndarray, y_pred: np.ndarray=None) -> BasicTree:\n",
    "        if y_pred is not None:\n",
    "            self.tree = self._build_tree(X_train, y_train, depth=0, y_pred=y_pred)\n",
    "        else:\n",
    "            self.tree = self._build_tree(X_train, y_train, depth=0)\n",
    "        return self\n",
    "          \n",
    "            \n",
    "    def _traverse_tree(self, x, node: dict) -> float:\n",
    "        if 'value' in node:\n",
    "            return node['value']\n",
    "                    \n",
    "        if x[node['feature']] <= node['threshold']:\n",
    "            return self._traverse_tree(x, node['left'])\n",
    "        else:\n",
    "            return self._traverse_tree(x, node['right'])\n",
    "        \n",
    "            \n",
    "    def predict(self, X_test: np.ndarray) -> np.ndarray:\n",
    "        return np.array([self._traverse_tree(x, self.tree) for x in X_test])"
   ]
  },
  {
   "cell_type": "markdown",
   "metadata": {},
   "source": [
    "# 1. Regression Tree"
   ]
  },
  {
   "cell_type": "code",
   "execution_count": 22,
   "metadata": {},
   "outputs": [],
   "source": [
    "class RegressionTree(BasicTree):\n",
    "    \n",
    "    def __init__(self, max_depth: int=None, criterion: str=\"mse\") -> None:\n",
    "        self.max_depth = max_depth\n",
    "        self.criterion = self._varience\n",
    "        self.model_type = \"regression\"\n",
    "        self.tree = None\n",
    "        \n",
    "    def _create_leaf_node(self, y: np.ndarray, y_pred: np.ndarray=None) -> dict:\n",
    "        return {'value': np.mean(y)}"
   ]
  },
  {
   "cell_type": "code",
   "execution_count": 23,
   "metadata": {},
   "outputs": [
    {
     "name": "stdout",
     "output_type": "stream",
     "text": [
      "981.0056974159776 {'max_depth': 3}\n"
     ]
    }
   ],
   "source": [
    "# HYPER-PARAMS SELECTION\n",
    "\n",
    "params_grid = {\n",
    "    'max_depth': [1, 2, 3, 5, 10, 20]\n",
    "}\n",
    "\n",
    "GS = GridSearchCV(RegressionTree, params_grid, model_type='regression')\n",
    "GS.fit(X_reg_train, y_reg_train)\n",
    "best_params = GS.best_params\n",
    "\n",
    "# FITTING MODEL\n",
    "\n",
    "model = RegressionTree(**best_params)\n",
    "\t\t\t \n",
    "model.fit(X_reg_train, y_reg_train)\n",
    "y_reg_pred = model.predict(X_reg_test)\n",
    "score = metrics.mean_squared_error(y_reg_pred, y_reg_test)\n",
    "print(score, best_params)"
   ]
  },
  {
   "cell_type": "markdown",
   "metadata": {},
   "source": [
    "# 2. Classification Tree"
   ]
  },
  {
   "cell_type": "code",
   "execution_count": 24,
   "metadata": {},
   "outputs": [],
   "source": [
    "class ClassificationTree(BasicTree):\n",
    "    \n",
    "    def __init__(self, max_depth: int=None, criterion: str=\"entropy\") -> None:\n",
    "        self.max_depth = max_depth\n",
    "        if criterion == \"entropy\":\n",
    "            self.criterion = self._entropy\n",
    "        elif criterion == \"gini\":\n",
    "            self.criterion = self._gini_index\n",
    "        else:\n",
    "            raise Exception(\"Criterion must be in [\\\"entropy\\\", \\\"gini\\\"]\")\n",
    "        self.model_type = \"classification\"\n",
    "        self.tree = None\n",
    "        \n",
    "    def _create_leaf_node(self, y: np.ndarray, y_pred: np.ndarray=None) -> dict:\n",
    "        if y_pred is not None:\n",
    "            return {'value': np.sum(y) / np.sum(y_pred * (1 - y_pred))}\n",
    "        else:\n",
    "            unique_classes, counts = np.unique(y, return_counts=True)\n",
    "            most_common_class = unique_classes[np.argmax(counts)]\n",
    "            return {'value': most_common_class}"
   ]
  },
  {
   "cell_type": "code",
   "execution_count": 25,
   "metadata": {},
   "outputs": [
    {
     "name": "stdout",
     "output_type": "stream",
     "text": [
      "0.9473684210526316 {'max_depth': 5, 'criterion': 'entropy'}\n"
     ]
    }
   ],
   "source": [
    "# HYPER-PARAMS SELECTION\n",
    "\n",
    "params_grid = {\n",
    "    'max_depth': [1, 2, 3, 5, 10, 20],\n",
    "    'criterion': ['entropy', 'gini']\n",
    "}\n",
    "\n",
    "GS = GridSearchCV(ClassificationTree, params_grid, model_type='classification')\n",
    "GS.fit(X_clas_train, y_clas_train)\n",
    "best_params = GS.best_params\n",
    "\n",
    "# FITTING MODEL\n",
    "\n",
    "model = ClassificationTree(**best_params)\n",
    "\t\t\t \n",
    "model.fit(X_clas_train, y_clas_train)\n",
    "y_clas_pred = model.predict(X_clas_test)\n",
    "score = metrics.f1_score(y_clas_pred, y_clas_test)\n",
    "print(score, best_params)"
   ]
  },
  {
   "cell_type": "markdown",
   "metadata": {},
   "source": [
    "# Base Bagging Algorithm"
   ]
  },
  {
   "cell_type": "code",
   "execution_count": 26,
   "metadata": {},
   "outputs": [],
   "source": [
    "class Bagging():\n",
    "    \n",
    "    def __init__(self) -> None:\n",
    "        raise NotImplementedError(\"Метод требует переопределения в классе наследования\")\n",
    "        \n",
    "        \n",
    "    def fit(self, X_train: np.ndarray, y_train: np.ndarray) -> Bagging:\n",
    "        n_samples = y_train.size\n",
    "        if self.batch_size is None:\n",
    "            self.batch_size = n_samples\n",
    "        \n",
    "        for _ in range(self.n_estimators):\n",
    "            estimator = self.model(max_depth=self.max_depth, \n",
    "                                   criterion=self.criterion) \n",
    "             \n",
    "            inds = np.random.randint(0, n_samples, self.batch_size)\n",
    "            X_sampled = X_train[inds]\n",
    "            y_sampled = y_train[inds]\n",
    "            \n",
    "            estimator.fit(X_sampled, y_sampled)\n",
    "            self.estimators.append(estimator)\n",
    "            \n",
    "        return self\n",
    "            \n",
    "            \n",
    "    def predict(self, X_test: np.ndarray) -> np.ndarray:\n",
    "        predictions = np.zeros(len(X_test))\n",
    "        \n",
    "        for estimator in self.estimators:\n",
    "            predictions += estimator.predict(X_test)\n",
    "        \n",
    "        predictions /= self.n_estimators\n",
    "        \n",
    "        if self.model == ClassificationTree:\n",
    "            return np.round(predictions)  \n",
    "        return predictions"
   ]
  },
  {
   "cell_type": "markdown",
   "metadata": {},
   "source": [
    "# 3. Bagging Regression Tree"
   ]
  },
  {
   "cell_type": "code",
   "execution_count": 27,
   "metadata": {},
   "outputs": [],
   "source": [
    "class BaggingRegressionTree(Bagging):\n",
    "    \n",
    "    def __init__(self, n_estimators: int=10, max_depth: int=None, \n",
    "                 criterion: str=\"mse\") -> None:\n",
    "        self.model = RegressionTree\n",
    "        self.criterion = criterion\n",
    "        self.n_estimators = n_estimators\n",
    "        self.max_depth = max_depth\n",
    "        self.batch_size = None\n",
    "        self.estimators = []"
   ]
  },
  {
   "cell_type": "code",
   "execution_count": 28,
   "metadata": {},
   "outputs": [
    {
     "name": "stdout",
     "output_type": "stream",
     "text": [
      "527.5797356797746 {'max_depth': 10, 'n_estimators': 10}\n"
     ]
    }
   ],
   "source": [
    "# HYPER-PARAMS SELECTION\n",
    "\n",
    "params_grid = {\n",
    "    'max_depth': [1, 3, 5, 10, 20],\n",
    "    'n_estimators': [3, 5, 10, 20]\n",
    "}\n",
    "\n",
    "GS = GridSearchCV(BaggingRegressionTree, params_grid, model_type='regression')\n",
    "GS.fit(X_reg_train, y_reg_train)\n",
    "best_params = GS.best_params\n",
    "\n",
    "# FITTING MODEL\n",
    "\n",
    "model = BaggingRegressionTree(**best_params)\n",
    "\t\t\t \n",
    "model.fit(X_reg_train, y_reg_train)\n",
    "y_reg_pred = model.predict(X_reg_test)\n",
    "score = metrics.mean_squared_error(y_reg_pred, y_reg_test)\n",
    "print(score, best_params)"
   ]
  },
  {
   "cell_type": "markdown",
   "metadata": {},
   "source": [
    "# 4. Random Forest Regression"
   ]
  },
  {
   "cell_type": "code",
   "execution_count": 29,
   "metadata": {},
   "outputs": [],
   "source": [
    "class RandomForestRegression(BaggingRegressionTree):\n",
    "    \n",
    "    def __init__(self, n_estimators: int=10, batch_size: int=10, \n",
    "                 max_depth: int = None, criterion=\"mse\") -> None:\n",
    "        self.model = RegressionTree\n",
    "        self.criterion = criterion\n",
    "        self.n_estimators = n_estimators\n",
    "        self.max_depth = max_depth\n",
    "        self.batch_size = batch_size\n",
    "        self.estimators = []"
   ]
  },
  {
   "cell_type": "code",
   "execution_count": 30,
   "metadata": {},
   "outputs": [
    {
     "name": "stdout",
     "output_type": "stream",
     "text": [
      "599.7527861431565 {'max_depth': 5, 'n_estimators': 20, 'batch_size': 20}\n"
     ]
    }
   ],
   "source": [
    "# HYPER-PARAMS SELECTION\n",
    "\n",
    "params_grid = {\n",
    "    'max_depth': [1, 3, 5, 10, 20],\n",
    "    'n_estimators': [3, 5, 10, 20],\n",
    "    'batch_size': [1, 5, 10, 20]\n",
    "}\n",
    "\n",
    "GS = GridSearchCV(RandomForestRegression, params_grid, model_type='regression')\n",
    "GS.fit(X_reg_train, y_reg_train)\n",
    "best_params = GS.best_params\n",
    "\n",
    "# FITTING MODEL\n",
    "\n",
    "model = RandomForestRegression(**best_params)\n",
    "\t\t\t \n",
    "model.fit(X_reg_train, y_reg_train)\n",
    "y_reg_pred = model.predict(X_reg_test)\n",
    "score = metrics.mean_squared_error(y_reg_pred, y_reg_test)\n",
    "print(score, best_params)"
   ]
  },
  {
   "cell_type": "markdown",
   "metadata": {},
   "source": [
    "# 5. Bagging Classification Tree"
   ]
  },
  {
   "cell_type": "code",
   "execution_count": 31,
   "metadata": {},
   "outputs": [],
   "source": [
    "class BaggingClassificationTree(Bagging):\n",
    "    \n",
    "    def __init__(self, n_estimators: int=10, max_depth: int=None, \n",
    "                 criterion: str=\"entropy\") -> None:\n",
    "        self.model = ClassificationTree\n",
    "        self.criterion = criterion\n",
    "        self.n_estimators = n_estimators\n",
    "        self.max_depth = max_depth\n",
    "        self.batch_size = None   \n",
    "        self.estimators = []"
   ]
  },
  {
   "cell_type": "code",
   "execution_count": 32,
   "metadata": {},
   "outputs": [
    {
     "name": "stdout",
     "output_type": "stream",
     "text": [
      "0.8387096774193548 {'max_depth': 5, 'n_estimators': 5, 'criterion': 'gini'}\n"
     ]
    }
   ],
   "source": [
    "# HYPER-PARAMS SELECTION\n",
    "\n",
    "params_grid = {\n",
    "    'max_depth': [1, 3, 5, 10, 20],\n",
    "    'n_estimators': [3, 5, 10, 20],\n",
    "    'criterion': ['entropy', 'gini']\n",
    "}\n",
    "\n",
    "GS = GridSearchCV(BaggingClassificationTree, params_grid, model_type='classification')\n",
    "GS.fit(X_clas_train, y_clas_train)\n",
    "best_params = GS.best_params\n",
    "\n",
    "# FITTING MODEL\n",
    "\n",
    "model = BaggingClassificationTree(**best_params)\n",
    "# model = ClassificationTree(max_depth=)\n",
    "\t\t\t \n",
    "model.fit(X_clas_train, y_clas_train)\n",
    "y_clas_pred = model.predict(X_clas_test)\n",
    "score = metrics.f1_score(y_clas_pred, y_clas_test)\n",
    "print(score, best_params)"
   ]
  },
  {
   "cell_type": "markdown",
   "metadata": {},
   "source": [
    "# 6. Random Forest Classification"
   ]
  },
  {
   "cell_type": "code",
   "execution_count": 33,
   "metadata": {},
   "outputs": [],
   "source": [
    "class RandomForestClassification(BaggingClassificationTree):\n",
    "    \n",
    "    def __init__(self, n_estimators: int=10, batch_size: int=10, \n",
    "                 max_depth: int = None, criterion=\"entropy\") -> None:\n",
    "        self.model = ClassificationTree\n",
    "        self.criterion = criterion\n",
    "        self.n_estimators = n_estimators\n",
    "        self.max_depth = max_depth\n",
    "        self.batch_size = batch_size\n",
    "        self.estimators = []"
   ]
  },
  {
   "cell_type": "code",
   "execution_count": 34,
   "metadata": {},
   "outputs": [
    {
     "name": "stdout",
     "output_type": "stream",
     "text": [
      "0.8888888888888888 {'max_depth': 5, 'n_estimators': 5, 'batch_size': 20, 'criterion': 'gini'}\n"
     ]
    }
   ],
   "source": [
    "# HYPER-PARAMS SELECTION\n",
    "\n",
    "params_grid = {\n",
    "    'max_depth': [1, 3, 5, 10, 20],\n",
    "    'n_estimators': [3, 5, 10, 20],\n",
    "    'batch_size': [1, 5, 10, 20],\n",
    "    'criterion': ['entropy', 'gini']\n",
    "}\n",
    "\n",
    "GS = GridSearchCV(RandomForestClassification, params_grid, model_type='classification')\n",
    "GS.fit(X_clas_train, y_clas_train)\n",
    "best_params = GS.best_params\n",
    "\n",
    "# FITTING MODEL\n",
    "\n",
    "model = RandomForestClassification(**best_params)\n",
    "# model = ClassificationTree(max_depth=)\n",
    "\t\t\t \n",
    "model.fit(X_clas_train, y_clas_train)\n",
    "y_clas_pred = model.predict(X_clas_test)\n",
    "score = metrics.f1_score(y_clas_pred, y_clas_test)\n",
    "print(score, best_params)"
   ]
  },
  {
   "cell_type": "code",
   "execution_count": 35,
   "metadata": {},
   "outputs": [],
   "source": [
    "class GradientBoostingRegression:\n",
    "    \n",
    "    def __init__(self, n_estimators: int=100, learning_rate: float=0.1, \n",
    "                 max_depth: int=3) -> None:\n",
    "        self.n_estimators = n_estimators\n",
    "        self.learning_rate = learning_rate\n",
    "        self.max_depth = max_depth\n",
    "        self.estimators = []\n",
    "        \n",
    "    def fit(self, X_train: np.ndarray, y_train: np.ndarray) -> GradientBoostingRegression:\n",
    "        predictions = np.zeros(y_train.size)\n",
    "        \n",
    "        for _ in range(self.n_estimators):\n",
    "            residuals = y_train - predictions\n",
    "            \n",
    "            tree = RegressionTree(max_depth=self.max_depth)\n",
    "            tree.fit(X_train, residuals)\n",
    "            tree_predictions = tree.predict(X_train)\n",
    "            \n",
    "            predictions += self.learning_rate * tree_predictions\n",
    "            self.estimators.append(tree)\n",
    "        \n",
    "        return self\n",
    "    \n",
    "    def predict(self, X_test):\n",
    "        predictions = np.zeros(X_test.shape[0])\n",
    "        \n",
    "        for tree in self.estimators:\n",
    "            tree_predictions = tree.predict(X_test)\n",
    "            predictions += self.learning_rate * tree_predictions\n",
    "            \n",
    "        return predictions"
   ]
  },
  {
   "cell_type": "code",
   "execution_count": 36,
   "metadata": {},
   "outputs": [
    {
     "name": "stdout",
     "output_type": "stream",
     "text": [
      "545.7983824304506 {'max_depth': 5, 'n_estimators': 20}\n"
     ]
    }
   ],
   "source": [
    "# HYPER-PARAMS SELECTION\n",
    "\n",
    "params_grid = {\n",
    "    'max_depth': [1, 3, 5, 10, 20],\n",
    "    'n_estimators': [3, 5, 10, 20]\n",
    "}\n",
    "\n",
    "GS = GridSearchCV(GradientBoostingRegression, params_grid, model_type='regression')\n",
    "GS.fit(X_reg_train, y_reg_train)\n",
    "best_params = GS.best_params\n",
    "\n",
    "# FITTING MODEL\n",
    "\n",
    "model = GradientBoostingRegression(**best_params)\n",
    "\t\t\t \n",
    "model.fit(X_reg_train, y_reg_train)\n",
    "y_reg_pred = model.predict(X_reg_test)\n",
    "score = metrics.mean_squared_error(y_reg_pred, y_reg_test)\n",
    "print(score, best_params)"
   ]
  },
  {
   "cell_type": "code",
   "execution_count": 37,
   "metadata": {},
   "outputs": [],
   "source": [
    "class GradientBoostingClassification:\n",
    "    \n",
    "    def __init__(self, n_estimators: int=100, learning_rate: float=0.1, \n",
    "                 max_depth: int=3) -> None:\n",
    "        self.n_estimators = n_estimators\n",
    "        self.learning_rate = learning_rate\n",
    "        self.max_depth = max_depth\n",
    "        self.estimators = []\n",
    "        \n",
    "    def fit(self, X_train: np.ndarray, y_train: np.ndarray) -> GradientBoostingRegression:\n",
    "        predictions = np.full_like(y_train, self._sigmoid(\n",
    "                      np.log(np.count_nonzero(y_train == 1) / np.count_nonzero(y_train == 0))),\n",
    "                                                                             dtype=np.float64)\n",
    "        \n",
    "        for _ in range(self.n_estimators):\n",
    "            residuals = y_train - predictions\n",
    "            \n",
    "            tree = ClassificationTree(max_depth=self.max_depth)\n",
    "            tree.fit(X_train, residuals, predictions)\n",
    "            tree_predictions = tree.predict(X_train)\n",
    "            \n",
    "            predictions += self.learning_rate * tree_predictions\n",
    "            self.estimators.append(tree)\n",
    "        \n",
    "        return self\n",
    "    \n",
    "    def predict(self, X_test):\n",
    "        predictions = np.full(X_test.shape[0], 0.5)\n",
    "        \n",
    "        for tree in self.estimators:\n",
    "            tree_predictions = tree.predict(X_test)\n",
    "            predictions += self.learning_rate * tree_predictions\n",
    "            \n",
    "        predictions = np.round(predictions, 1).astype(int)\n",
    "            \n",
    "        return predictions\n",
    "                \n",
    "        \n",
    "    def _sigmoid(self, z):\n",
    "        return 1 / (1 + np.exp(-z))"
   ]
  },
  {
   "cell_type": "code",
   "execution_count": 38,
   "metadata": {},
   "outputs": [
    {
     "name": "stdout",
     "output_type": "stream",
     "text": [
      "0.9473684210526316 {'max_depth': 5, 'n_estimators': 3}\n"
     ]
    }
   ],
   "source": [
    "# HYPER-PARAMS SELECTION\n",
    "\n",
    "params_grid = {\n",
    "    'max_depth': [1, 3, 5, 10, 20],\n",
    "    'n_estimators': [3, 5, 10, 20],\n",
    "}\n",
    "\n",
    "GS = GridSearchCV(GradientBoostingClassification, params_grid, model_type='classification')\n",
    "GS.fit(X_clas_train, y_clas_train)\n",
    "best_params = GS.best_params\n",
    "\n",
    "# FITTING MODEL\n",
    "\n",
    "model = GradientBoostingClassification(**best_params)\n",
    "# model = ClassificationTree(max_depth=)\n",
    "\t\t\t \n",
    "model.fit(X_clas_train, y_clas_train)\n",
    "y_clas_pred = model.predict(X_clas_test)\n",
    "score = metrics.f1_score(y_clas_pred, y_clas_test)\n",
    "print(score, best_params)"
   ]
  },
  {
   "cell_type": "markdown",
   "metadata": {},
   "source": [
    "# CLUSTERING"
   ]
  },
  {
   "cell_type": "code",
   "execution_count": 224,
   "metadata": {},
   "outputs": [],
   "source": [
    "class ClusterBasic(BaseEstimator):\n",
    "    \n",
    "    def __init__(self) -> None:\n",
    "        raise NotImplementedError(\"Метод требует переопределения в классе наследования\")\n",
    "    \n",
    "    def show_clusters(self, X: np.ndarray, show_centroids: bool=False) -> None:\n",
    "        if self.labels is None:\n",
    "            raise Exception('Not trained yet')        \n",
    "        elif show_centroids:\n",
    "            plt.scatter(self.centroids[:, 0], self.centroids[:, 1], color='red')\n",
    "        \n",
    "        plt.scatter(X[:, 0], X[:, 1], c=self.labels)\n",
    "        plt.show()\n",
    "        \n",
    "    def l2(self, x1: np.ndarray, x2: np.ndarray, axis: int=0) -> float:\n",
    "        return np.linalg.norm(x1 - x2, axis=axis)\n",
    "    \n",
    "    def predict(self, show: bool=False) -> np.ndarray:\n",
    "        if self.labels is None:\n",
    "            raise Exception('Not trained yet')\n",
    "        elif show:\n",
    "            self.show_clusters(self.X) \n",
    "        return self.labels"
   ]
  },
  {
   "cell_type": "markdown",
   "metadata": {},
   "source": [
    "#### CLUSTERING DATA GENERATION"
   ]
  },
  {
   "cell_type": "code",
   "execution_count": 166,
   "metadata": {},
   "outputs": [],
   "source": [
    "X, true_labels = make_blobs(\n",
    "    n_samples=100,\n",
    "    n_features=2, \n",
    "    centers=4, \n",
    "    cluster_std=0.8,\n",
    "    \n",
    ")"
   ]
  },
  {
   "cell_type": "markdown",
   "metadata": {},
   "source": [
    "# 1. K-Means"
   ]
  },
  {
   "cell_type": "code",
   "execution_count": 218,
   "metadata": {},
   "outputs": [],
   "source": [
    "class KMeans(ClusterBasic):\n",
    "    \n",
    "    def __init__(self, k: int=5, max_iter: int=100) -> None:\n",
    "        self.k = k\n",
    "        self.max_iter = max_iter\n",
    "        self.centroids = None\n",
    "        self.labels = None\n",
    "        \n",
    "    def fit(self, X: np.ndarray) -> KMeans:\n",
    "        self.centroids = X[np.random.randint(0, X.shape[0], self.k)] \n",
    "        \n",
    "        for _ in range(self.max_iter):\n",
    "            self.predict(X)\n",
    "            \n",
    "            # new_centroids = np.array([X[self.labels == i].mean(axis=0) for i in range(self.k)])\n",
    "            \n",
    "            new_centroids = []\n",
    "            for i in range(self.k):\n",
    "                centroid = X[self.labels == i].mean(axis=0)\n",
    "                new_centroids.append(centroid)\n",
    "            new_centroids = np.array(new_centroids)\n",
    "            \n",
    "            if np.all(new_centroids == self.centroids):\n",
    "                break\n",
    "            \n",
    "            self.centroids = new_centroids\n",
    "        return self\n",
    "            \n",
    "        \n",
    "    def predict(self, X: np.ndarray, show: bool=False) -> np.ndarray:\n",
    "        if self.centroids is None:\n",
    "            raise Exception('Not trained yet')\n",
    "        \n",
    "        # labels = np.argmin(np.linalg.norm(X[:, np.newaxis] - \n",
    "        #                     self.centroids, axis=-1), axis=-1)\n",
    "        \n",
    "        labels_list = []\n",
    "        for x in X:\n",
    "            x = np.expand_dims(x, axis=1)\n",
    "            dists = self.l2(x, self.centroids.T, axis=0)\n",
    "            label = np.argmin(dists)\n",
    "            labels_list.append(label)\n",
    "        \n",
    "        self.labels = np.array(labels_list)\n",
    "        \n",
    "        if show:\n",
    "            self.show_clusters(X)    \n",
    "        return self.labels"
   ]
  },
  {
   "cell_type": "code",
   "execution_count": 220,
   "metadata": {},
   "outputs": [
    {
     "data": {
      "image/png": "[encoded data removed]",
      "text/plain": [
       "<Figure size 640x480 with 1 Axes>"
      ]
     },
     "metadata": {},
     "output_type": "display_data"
    }
   ],
   "source": [
    "model = KMeans(4, 1000)\n",
    "model.fit(X)\n",
    "labels_pred = model.predict(X, show=True)"
   ]
  },
  {
   "cell_type": "markdown",
   "metadata": {},
   "source": [
    "# 2. DBSCAN"
   ]
  },
  {
   "cell_type": "code",
   "execution_count": 222,
   "metadata": {},
   "outputs": [],
   "source": [
    "class DBSCAN(ClusterBasic):\n",
    "    \n",
    "    def __init__(self, eps: float, min_samples: int) -> None:\n",
    "        self.eps = eps\n",
    "        self.min_samples = min_samples\n",
    "        self.labels = None\n",
    "        \n",
    "        \n",
    "    def fit(self, X: np.ndarray) -> DBSCAN:\n",
    "        self.X = X\n",
    "        self.n_samples = len(X)\n",
    "        self.labels = np.zeros(self.n_samples)\n",
    "        \n",
    "        cluster_label = 0\n",
    "        \n",
    "        for i in range(self.n_samples):\n",
    "            if self.labels[i] != 0:\n",
    "                continue\n",
    "            \n",
    "            neighbors = self._find_neighbors(i)\n",
    "            \n",
    "            if len(neighbors) < self.min_samples:\n",
    "                self.labels[i] = -1\n",
    "            else:\n",
    "                cluster_label += 1\n",
    "                self._expand_cluster(i, cluster_label, neighbors)         \n",
    "        return self\n",
    "    \n",
    "    \n",
    "    def predict(self, show: bool=False) -> np.ndarray:\n",
    "        if self.labels is None:\n",
    "            raise Exception('Not trained yet')\n",
    "        elif show:\n",
    "            self.show_clusters(self.X) \n",
    "        return self.labels\n",
    "    \n",
    "    \n",
    "    def _find_neighbors(self, point_index: int) -> list:\n",
    "        neighbors = []\n",
    "        \n",
    "        for i in range(self.n_samples):\n",
    "            if self.l2(self.X[i], self.X[point_index]) <= self.eps:\n",
    "                neighbors.append(i)\n",
    "                \n",
    "        return neighbors\n",
    "    \n",
    "    \n",
    "    def _expand_cluster(self, point_index, cluster_label, neighbors):\n",
    "        self.labels[point_index] = cluster_label\n",
    "        \n",
    "        i = 0\n",
    "        while i < len(neighbors) and i < 200:\n",
    "            neighbor = neighbors[i]\n",
    "            \n",
    "            if self.labels[neighbor] == -1:\n",
    "                self.labels[neighbor] = cluster_label\n",
    "            elif self.labels[neighbor] == 0:\n",
    "                self.labels[neighbor] = cluster_label\n",
    "                new_neighbors = self._find_neighbors(neighbor)\n",
    "                \n",
    "                if len(new_neighbors) >= self.min_samples:\n",
    "                    neighbors += new_neighbors\n",
    "\n",
    "            i += 1"
   ]
  },
  {
   "cell_type": "code",
   "execution_count": 216,
   "metadata": {},
   "outputs": [
    {
     "data": {
      "image/png": "[encoded data removed]",
      "text/plain": [
       "<Figure size 640x480 with 1 Axes>"
      ]
     },
     "metadata": {},
     "output_type": "display_data"
    }
   ],
   "source": [
    "model = DBSCAN(eps=1.5, min_samples=3)\n",
    "model.fit(X)\n",
    "labels_pred = model.predict(show=True)"
   ]
  },
  {
   "cell_type": "markdown",
   "metadata": {},
   "source": [
    "# 3. Agglomerative Clustering"
   ]
  },
  {
   "cell_type": "code",
   "execution_count": 234,
   "metadata": {},
   "outputs": [],
   "source": [
    "class AgglomerativeClustering(ClusterBasic):\n",
    "    \n",
    "    def __init__(self, n_clusters: int, cluster_dist: str='min') -> None:\n",
    "        self.n_clusters = n_clusters\n",
    "        self.labels = None\n",
    "        \n",
    "        if cluster_dist not in {'min', 'max', 'mean', 'centroid'}:\n",
    "            raise Exception(\"cluster_dist must be in ['min', 'max', 'mean', 'centroid']\")\n",
    "        self.cluster_dist = cluster_dist\n",
    "        if cluster_dist == 'centroid':\n",
    "            self._count_cluster_dist = self._centroid_dist\n",
    "        else:\n",
    "            self._count_cluster_dist = self._points_dist\n",
    "            \n",
    "        \n",
    "    def fit(self, X: np.ndarray) -> AgglomerativeClustering:\n",
    "        self.X = X\n",
    "        self.n_samples = X.shape[0]\n",
    "        self.clusters = [[x] for x in X]\n",
    "        \n",
    "        while len(self.clusters) > self.n_clusters:\n",
    "            x, y = self._get_nearest_min_clusters_inds()\n",
    "            merged_cluster = self.clusters[x] + self.clusters[y]\n",
    "            self.clusters.pop(x)\n",
    "            self.clusters.pop(y-1)\n",
    "            self.clusters.append(merged_cluster)\n",
    "        \n",
    "        self._assign_labels()\n",
    "        \n",
    "        \n",
    "    def _assign_labels(self) -> None:\n",
    "        self.labels = np.zeros(self.n_samples)\n",
    "        \n",
    "        for i in range(self.n_samples):\n",
    "            for j in range(self.n_clusters):\n",
    "                if np.sum(np.all(self.X[i] == self.clusters[j], axis=1)) > 0:\n",
    "                    self.labels[i] = j\n",
    "                                \n",
    "            \n",
    "    def _get_nearest_min_clusters_inds(self) -> tuple:\n",
    "        min_dist, neared_clusters_inds = np.inf, None\n",
    "        n_clusters = len(self.clusters)\n",
    "        \n",
    "        for i in range(n_clusters-1):\n",
    "            for j in range(i+1, n_clusters):\n",
    "                dist = self._count_cluster_dist(i, j)\n",
    "                if dist < min_dist:\n",
    "                    min_dist, neared_clusters_inds = dist, (i, j)\n",
    "        \n",
    "        return neared_clusters_inds\n",
    "    \n",
    "                \n",
    "    def _calc_centroid(self, cluster: list) -> np.ndarray:\n",
    "        n_points = len(cluster)\n",
    "        centroid = np.array(cluster).sum(axis=0) / n_points\n",
    "        return centroid\n",
    "    \n",
    "    \n",
    "    def _centroid_dist(self, x_ind: int, y_ind: int) -> float:\n",
    "        centroid_x = self._calc_centroid(self.clusters[x_ind])\n",
    "        centroid_y = self._calc_centroid(self.clusters[y_ind])\n",
    "        return self.l2(centroid_x, centroid_y)\n",
    "    \n",
    "    \n",
    "    def _points_dist(self, x_ind: int, y_ind: int) -> float:\n",
    "        dists = []\n",
    "        for x_point in self.clusters[x_ind]:\n",
    "            for y_point in self.clusters[y_ind]:\n",
    "                dists.append(self.l2(x_point, y_point))\n",
    "        if self.cluster_dist == 'mean':\n",
    "            return np.mean(dists)\n",
    "        elif self.cluster_dist == 'min':\n",
    "            return min(dists)\n",
    "        elif self.cluster_dist == 'max':\n",
    "            return max(dists)"
   ]
  },
  {
   "cell_type": "code",
   "execution_count": 246,
   "metadata": {},
   "outputs": [
    {
     "data": {
      "image/png": "[encoded data removed]",
      "text/plain": [
       "<Figure size 640x480 with 1 Axes>"
      ]
     },
     "metadata": {},
     "output_type": "display_data"
    }
   ],
   "source": [
    "model = AgglomerativeClustering(n_clusters=3, cluster_dist='centroid')\n",
    "model.fit(X)\n",
    "labels_pred = model.predict(show=True)"
   ]
  },
  {
   "cell_type": "markdown",
   "metadata": {},
   "source": [
    "# Dimensionality Reduction"
   ]
  },
  {
   "cell_type": "markdown",
   "metadata": {},
   "source": [
    "# 1. PCA"
   ]
  },
  {
   "cell_type": "code",
   "execution_count": 43,
   "metadata": {},
   "outputs": [],
   "source": [
    "class PCA(BaseEstimator):\n",
    "    \n",
    "    def __init__(self, n_components) -> None:\n",
    "        self.n_components = n_components\n",
    "        self.components = None\n",
    "        self.mean = None\n",
    "        \n",
    "    def fit(self, X: np.ndarray) -> PCA:\n",
    "        self.mean = X.mean(axis=0)\n",
    "        X_centered = X - self.mean\n",
    "                \n",
    "        covariance_matrix = np.cov(X_centered.T)\n",
    "        eigenvalues, eigenvectors = np.linalg.eig(covariance_matrix)\n",
    "        \n",
    "        eigen_inds = np.argsort(eigenvalues)[::-1]\n",
    "        sorted_eigenvectors = eigenvectors[:, eigen_inds]\n",
    "        \n",
    "        self.components = sorted_eigenvectors[:, :self.n_components]\n",
    "        \n",
    "    def transform(self, X: np.ndarray) -> np.ndarray:\n",
    "        if self.components is None:\n",
    "            raise Exception('Not trained yet')\n",
    "        \n",
    "        X_centered = X - self.mean\n",
    "        transformed = X_centered @ self.components\n",
    "        return transformed\n",
    "    \n",
    "    def fit_transform(self, X: np.ndarray) -> np.ndarray:\n",
    "        self.fit(X)\n",
    "        return self.transform(X)"
   ]
  },
  {
   "cell_type": "code",
   "execution_count": 44,
   "metadata": {},
   "outputs": [
    {
     "data": {
      "text/plain": [
       "array([[ 1, 66, 68, 35, 53],\n",
       "       [31, 10, 18, 81, 99],\n",
       "       [64,  6, 44, 17,  1],\n",
       "       [ 4, 18, 41,  3,  8],\n",
       "       [28, 29,  1, 78, 55],\n",
       "       [43,  4, 14, 62, 87],\n",
       "       [65, 79, 99, 26,  1],\n",
       "       [90,  6, 31, 79,  5],\n",
       "       [59, 87, 88, 12, 56],\n",
       "       [98, 63, 70, 32, 64]])"
      ]
     },
     "metadata": {},
     "output_type": "display_data"
    },
    {
     "data": {
      "text/plain": [
       "array([[ 18.07077872, -40.37669321],\n",
       "       [-73.28554022, -31.16955155],\n",
       "       [ 13.05282179,  54.3352427 ],\n",
       "       [ 10.17660718,  25.86360651],\n",
       "       [-56.3021821 ,  -3.55292617],\n",
       "       [-63.28389527, -14.01490254],\n",
       "       [ 78.78237823,   7.43675576],\n",
       "       [-19.88782838,  60.15948133],\n",
       "       [ 60.35451509, -39.48185885],\n",
       "       [ 32.32234497, -19.19915398]])"
      ]
     },
     "metadata": {},
     "output_type": "display_data"
    }
   ],
   "source": [
    "X_decomp = np.random.randint(0, 100, (10, 5))\n",
    "\n",
    "model = PCA(2)\n",
    "X_transformed = model.fit_transform(X_decomp)\n",
    "display(X_decomp, X_transformed)"
   ]
  }
 ],
 "metadata": {
  "kernelspec": {
   "display_name": "venv",
   "language": "python",
   "name": "python3"
  },
  "language_info": {
   "codemirror_mode": {
    "name": "ipython",
    "version": 3
   },
   "file_extension": ".py",
   "mimetype": "text/x-python",
   "name": "python",
   "nbconvert_exporter": "python",
   "pygments_lexer": "ipython3",
   "version": "3.10.7"
  }
 },
 "nbformat": 4,
 "nbformat_minor": 2
}
